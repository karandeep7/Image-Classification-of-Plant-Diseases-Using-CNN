{
  "nbformat": 4,
  "nbformat_minor": 0,
  "metadata": {
    "colab": {
      "provenance": [],
      "include_colab_link": true
    },
    "kernelspec": {
      "name": "python3",
      "display_name": "Python 3"
    },
    "language_info": {
      "name": "python"
    }
  },
  "cells": [
    {
      "cell_type": "markdown",
      "metadata": {
        "id": "view-in-github",
        "colab_type": "text"
      },
      "source": [
        "<a href=\"https://colab.research.google.com/github/karandeep7/Image-Classification-of-Plant-Diseases-Using-CNN/blob/main/test.ipynb\" target=\"_parent\"><img src=\"https://colab.research.google.com/assets/colab-badge.svg\" alt=\"Open In Colab\"/></a>"
      ]
    },
    {
      "cell_type": "markdown",
      "source": [
        "#Fetching the data from source"
      ],
      "metadata": {
        "id": "MmtZd-a8HtZI"
      }
    },
    {
      "cell_type": "markdown",
      "source": [
        "###Download datasets from kaggle"
      ],
      "metadata": {
        "id": "brRXeCicH0PO"
      }
    },
    {
      "cell_type": "code",
      "source": [
        "!kaggle datasets download -d rizwan123456789/potato-disease-leaf-datasetpld\n",
        "!kaggle datasets download -d adilmubashirchaudhry/plant-village-dataset\n",
        "!kaggle datasets download -d mexwell/crop-diseases-classification\n"
      ],
      "metadata": {
        "id": "alippljhBuXj",
        "outputId": "6310f1b2-ac58-428d-cb29-f36a8c1081ca",
        "colab": {
          "base_uri": "https://localhost:8080/"
        }
      },
      "execution_count": null,
      "outputs": [
        {
          "output_type": "stream",
          "name": "stdout",
          "text": [
            "Dataset URL: https://www.kaggle.com/datasets/rizwan123456789/potato-disease-leaf-datasetpld\n",
            "License(s): DbCL-1.0\n",
            "Downloading potato-disease-leaf-datasetpld.zip to /content\n",
            " 96% 36.0M/37.4M [00:01<00:00, 38.2MB/s]\n",
            "100% 37.4M/37.4M [00:01<00:00, 25.9MB/s]\n",
            "Dataset URL: https://www.kaggle.com/datasets/adilmubashirchaudhry/plant-village-dataset\n",
            "License(s): CC-BY-NC-SA-4.0\n",
            "Downloading plant-village-dataset.zip to /content\n",
            "100% 985M/989M [00:30<00:00, 35.3MB/s]\n",
            "100% 989M/989M [00:30<00:00, 34.1MB/s]\n",
            "Dataset URL: https://www.kaggle.com/datasets/mexwell/crop-diseases-classification\n",
            "License(s): other\n",
            "Downloading crop-diseases-classification.zip to /content\n",
            "100% 2.00G/2.00G [01:10<00:00, 38.9MB/s]\n",
            "100% 2.00G/2.00G [01:10<00:00, 30.3MB/s]\n"
          ]
        }
      ]
    },
    {
      "cell_type": "markdown",
      "source": [
        "###Import required libraries"
      ],
      "metadata": {
        "id": "lXGTGIoRJr55"
      }
    },
    {
      "cell_type": "code",
      "source": [
        "import torchvision.transforms as transforms\n",
        "from torchvision.datasets import ImageFolder\n",
        "import pandas as pd\n",
        "import os\n",
        "from PIL import Image\n",
        "import json\n",
        "from torch.utils.data import Dataset, DataLoader, Subset\n",
        "from sklearn.model_selection import train_test_split\n",
        "from torch import tensor\n",
        "from tqdm import tqdm\n",
        "import matplotlib.pyplot as plt\n",
        "import torch\n",
        "import torch.nn as nn\n",
        "import torch.optim as optim\n",
        "from torchvision.models import resnet18, ResNet18_Weights\n",
        "from torchvision.models import vgg16\n",
        "from torchvision.models import mobilenet_v2, MobileNet_V2_Weights\n",
        "\n",
        "from sklearn.metrics import classification_report, confusion_matrix, accuracy_score, precision_score, recall_score, f1_score\n",
        "import seaborn as sns\n",
        "\n",
        "from sklearn.manifold import TSNE\n",
        "import numpy as np\n",
        "import gdown\n"
      ],
      "metadata": {
        "id": "9Rr4zFyPEad1"
      },
      "execution_count": null,
      "outputs": []
    },
    {
      "cell_type": "markdown",
      "source": [
        "###Unzip the datasets"
      ],
      "metadata": {
        "id": "PyDYCkfFH5Wu"
      }
    },
    {
      "cell_type": "code",
      "source": [
        "import zipfile\n",
        "with zipfile.ZipFile('/content/crop-diseases-classification.zip', 'r') as zip_ref:\n",
        "    zip_ref.extractall('/content/crop-diseases-classification')\n",
        "\n",
        "with zipfile.ZipFile('/content/plant-village-dataset.zip', 'r') as zip_ref:\n",
        "    zip_ref.extractall('/content/plant-village-dataset')\n",
        "\n",
        "with zipfile.ZipFile('/content/potato-disease-leaf-datasetpld.zip', 'r') as zip_ref:\n",
        "    zip_ref.extractall('/content/potato-disease-leaf-datasetpld')\n",
        "\n",
        "\n"
      ],
      "metadata": {
        "id": "6LANOBxmDdu4"
      },
      "execution_count": null,
      "outputs": []
    },
    {
      "cell_type": "markdown",
      "source": [
        "###Importing trained models from drive"
      ],
      "metadata": {
        "id": "_wGMByrT0UxX"
      }
    },
    {
      "cell_type": "code",
      "source": [
        "file_id = \"1uWr7eJ6XuQhvks8tvymCy_kRjaGVPBFf\"  # Replace with your file ID\n",
        "output = \"trained_models.zip\"  # Specify the desired output filename\n",
        "gdown.download(f\"https://drive.google.com/uc?id={file_id}\", output, quiet=False)\n",
        "\n",
        "with zipfile.ZipFile('/content/trained_models.zip', 'r') as zip_ref:\n",
        "    zip_ref.extractall('/content/trained_models')"
      ],
      "metadata": {
        "colab": {
          "base_uri": "https://localhost:8080/"
        },
        "id": "pRHPaPgh0aIt",
        "outputId": "03d454a6-ba97-45fd-981a-06c1f16ffc0f"
      },
      "execution_count": null,
      "outputs": [
        {
          "output_type": "stream",
          "name": "stderr",
          "text": [
            "Downloading...\n",
            "From (original): https://drive.google.com/uc?id=1uWr7eJ6XuQhvks8tvymCy_kRjaGVPBFf\n",
            "From (redirected): https://drive.google.com/uc?id=1uWr7eJ6XuQhvks8tvymCy_kRjaGVPBFf&confirm=t&uuid=3f9cf948-cebe-4a8c-a32b-c9219dbb63f7\n",
            "To: /content/trained_models.zip\n",
            "100%|██████████| 1.74G/1.74G [00:27<00:00, 62.6MB/s]\n"
          ]
        }
      ]
    }
  ]
}