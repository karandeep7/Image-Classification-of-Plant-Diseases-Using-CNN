{
  "nbformat": 4,
  "nbformat_minor": 0,
  "metadata": {
    "colab": {
      "provenance": [],
      "include_colab_link": true
    },
    "kernelspec": {
      "name": "python3",
      "display_name": "Python 3"
    },
    "language_info": {
      "name": "python"
    }
  },
  "cells": [
    {
      "cell_type": "markdown",
      "metadata": {
        "id": "view-in-github",
        "colab_type": "text"
      },
      "source": [
        "<a href=\"https://colab.research.google.com/github/karandeep7/Image-Classification-of-Plant-Diseases-Using-CNN/blob/main/plant_leaf_disease_classification.ipynb\" target=\"_parent\"><img src=\"https://colab.research.google.com/assets/colab-badge.svg\" alt=\"Open In Colab\"/></a>"
      ]
    },
    {
      "cell_type": "code",
      "execution_count": null,
      "metadata": {
        "id": "E0TE9J86uRzk"
      },
      "outputs": [],
      "source": []
    },
    {
      "cell_type": "markdown",
      "source": [
        "#Fetching the data from source"
      ],
      "metadata": {
        "id": "MmtZd-a8HtZI"
      }
    },
    {
      "cell_type": "markdown",
      "source": [
        "###Download datasets from kaggle"
      ],
      "metadata": {
        "id": "brRXeCicH0PO"
      }
    },
    {
      "cell_type": "code",
      "source": [
        "!kaggle datasets download -d rizwan123456789/potato-disease-leaf-datasetpld\n",
        "!kaggle datasets download -d adilmubashirchaudhry/plant-village-dataset\n",
        "!kaggle datasets download -d mexwell/crop-diseases-classification\n"
      ],
      "metadata": {
        "id": "alippljhBuXj",
        "outputId": "24f33455-ab8e-4901-e5e6-616c22c3af21",
        "colab": {
          "base_uri": "https://localhost:8080/"
        }
      },
      "execution_count": null,
      "outputs": [
        {
          "output_type": "stream",
          "name": "stdout",
          "text": [
            "Dataset URL: https://www.kaggle.com/datasets/rizwan123456789/potato-disease-leaf-datasetpld\n",
            "License(s): DbCL-1.0\n",
            "Downloading potato-disease-leaf-datasetpld.zip to /content\n",
            " 56% 21.0M/37.4M [00:00<00:00, 95.9MB/s]\n",
            "100% 37.4M/37.4M [00:00<00:00, 111MB/s] \n",
            "Dataset URL: https://www.kaggle.com/datasets/adilmubashirchaudhry/plant-village-dataset\n",
            "License(s): CC-BY-NC-SA-4.0\n",
            "Downloading plant-village-dataset.zip to /content\n",
            " 99% 979M/989M [00:15<00:00, 78.5MB/s]\n",
            "100% 989M/989M [00:15<00:00, 68.4MB/s]\n",
            "Dataset URL: https://www.kaggle.com/datasets/mexwell/crop-diseases-classification\n",
            "License(s): other\n",
            "Downloading crop-diseases-classification.zip to /content\n",
            "100% 1.99G/2.00G [00:29<00:00, 75.1MB/s]\n",
            "100% 2.00G/2.00G [00:29<00:00, 72.1MB/s]\n"
          ]
        }
      ]
    },
    {
      "cell_type": "markdown",
      "source": [
        "###Unzip the datasets"
      ],
      "metadata": {
        "id": "PyDYCkfFH5Wu"
      }
    },
    {
      "cell_type": "code",
      "source": [
        "import zipfile\n",
        "with zipfile.ZipFile('/content/crop-diseases-classification.zip', 'r') as zip_ref:\n",
        "    zip_ref.extractall('/content/crop-diseases-classification')\n",
        "\n",
        "with zipfile.ZipFile('/content/plant-village-dataset.zip', 'r') as zip_ref:\n",
        "    zip_ref.extractall('/content/plant-village-dataset')\n",
        "\n",
        "with zipfile.ZipFile('/content/potato-disease-leaf-datasetpld.zip', 'r') as zip_ref:\n",
        "    zip_ref.extractall('/content/potato-disease-leaf-datasetpld')\n",
        "\n",
        "\n"
      ],
      "metadata": {
        "id": "6LANOBxmDdu4"
      },
      "execution_count": null,
      "outputs": []
    },
    {
      "cell_type": "code",
      "source": [],
      "metadata": {
        "id": "EzubCbD4jtNP"
      },
      "execution_count": null,
      "outputs": []
    },
    {
      "cell_type": "markdown",
      "source": [
        "#Preprocessing\n"
      ],
      "metadata": {
        "id": "b9Uv5xNSJmzK"
      }
    },
    {
      "cell_type": "markdown",
      "source": [
        "###Import required libraries"
      ],
      "metadata": {
        "id": "lXGTGIoRJr55"
      }
    },
    {
      "cell_type": "code",
      "source": [
        "import torchvision.transforms as transforms\n",
        "from torchvision.datasets import ImageFolder\n",
        "import pandas as pd\n",
        "import os\n",
        "from PIL import Image\n",
        "import json\n",
        "from torch.utils.data import Dataset, DataLoader, Subset\n",
        "from sklearn.model_selection import train_test_split\n",
        "from torch import tensor\n",
        "from tqdm import tqdm\n",
        "import matplotlib.pyplot as plt\n",
        "import torch\n",
        "import torch.nn as nn\n",
        "import torch.optim as optim\n",
        "from torchvision.models import resnet18, ResNet18_Weights\n",
        "from torchvision.models import vgg16\n",
        "from torchvision.models import mobilenet_v2, MobileNet_V2_Weights"
      ],
      "metadata": {
        "id": "9Rr4zFyPEad1"
      },
      "execution_count": null,
      "outputs": []
    },
    {
      "cell_type": "markdown",
      "source": [
        "###Preprocessing functions for the dataloader"
      ],
      "metadata": {
        "id": "inTsvTNUKB08"
      }
    },
    {
      "cell_type": "code",
      "source": [
        "transform = transforms.Compose([\n",
        "    transforms.Resize((224, 224)),  # Resize to a standard size\n",
        "    transforms.ToTensor(),           # Convert images to tensors\n",
        "    transforms.Normalize(mean=[0.485, 0.456, 0.406], std=[0.229, 0.224, 0.225])  # Normalize\n",
        "\n",
        "])"
      ],
      "metadata": {
        "id": "5gPrSn71Ey6U"
      },
      "execution_count": null,
      "outputs": []
    },
    {
      "cell_type": "markdown",
      "source": [
        "###Create a custom dataset class for Crop Diseases Classification dataset\n"
      ],
      "metadata": {
        "id": "miLbAYaKLPPu"
      }
    },
    {
      "cell_type": "code",
      "source": [
        "class CropDiseaseDataset(Dataset):\n",
        "    def __init__(self, csv_file, img_dir, json_file, transform=None):\n",
        "        self.annotations = pd.read_csv(csv_file)\n",
        "        self.img_dir = img_dir\n",
        "        self.transform = transform\n",
        "\n",
        "        # Load the JSON file with label mappings\n",
        "        with open(json_file, 'r') as f:\n",
        "            self.label_mapping = json.load(f)\n",
        "\n",
        "        # Filter out rows where the image file is missing\n",
        "        self.annotations = self.annotations[self.annotations['image_id'].apply(\n",
        "            lambda x: os.path.exists(os.path.join(self.img_dir, x))\n",
        "        )].reset_index(drop=True)\n",
        "        self.classes = list(self.label_mapping.values())\n",
        "\n",
        "    def __len__(self):\n",
        "        return len(self.annotations)\n",
        "\n",
        "\n",
        "    def __getitem__(self, idx):\n",
        "        img_path = os.path.join(self.img_dir, self.annotations.iloc[idx, 0])  # image_id\n",
        "        image = Image.open(img_path)\n",
        "\n",
        "        # Convert numerical label to disease name\n",
        "        label_num = int(self.annotations.iloc[idx, 1])\n",
        "        label = self.label_mapping[str(label_num)]\n",
        "\n",
        "        # Convert the label to a numerical value if necessary\n",
        "        label_index = label_num  # Assuming the label_num is the correct index for your class\n",
        "        # Alternatively, you can map the label to an index if required\n",
        "\n",
        "        if self.transform:\n",
        "            image = self.transform(image)\n",
        "\n",
        "        return image, tensor(label_index)  # Convert to tensor\n"
      ],
      "metadata": {
        "id": "2yTnPGAYLN6G"
      },
      "execution_count": null,
      "outputs": []
    },
    {
      "cell_type": "markdown",
      "source": [
        "###Create dataloader for Crop Diseases Classification Dataset"
      ],
      "metadata": {
        "id": "QSnFSD_GLg2g"
      }
    },
    {
      "cell_type": "code",
      "source": [
        "# Define paths\n",
        "csv_file = '/content/crop-diseases-classification/Data/train.csv'   # Update with actual path\n",
        "img_dir = '/content/crop-diseases-classification/Data/train_images'        # Update with actual path\n",
        "json_file = '/content/crop-diseases-classification/Data/label_num_to_disease_map.json' # Update with actual path\n",
        "\n",
        "# Load full dataset\n",
        "dataset_2 = CropDiseaseDataset(csv_file=csv_file, img_dir=img_dir, json_file=json_file, transform=transform)\n",
        "\n",
        "# Split indices for train, validation, and test sets\n",
        "train_indices, temp_indices = train_test_split(range(len(dataset_2)), test_size=0.3, random_state=42)\n",
        "val_indices, test_indices = train_test_split(temp_indices, test_size=0.5, random_state=42)\n",
        "\n",
        "# Create subsets\n",
        "train_dataset_2 = Subset(dataset_2, train_indices)\n",
        "val_dataset_2 = Subset(dataset_2, val_indices)\n",
        "test_dataset_2 = Subset(dataset_2, test_indices)\n",
        "\n",
        "# Create DataLoaders\n",
        "batch_size = 32\n",
        "\n",
        "train_loader_2 = DataLoader(train_dataset_2, batch_size=batch_size, shuffle=True)\n",
        "val_loader_2 = DataLoader(val_dataset_2, batch_size=batch_size, shuffle=True)\n",
        "test_loader_2 = DataLoader(test_dataset_2, batch_size=batch_size, shuffle=True)\n"
      ],
      "metadata": {
        "id": "cTzB_DMyG96B"
      },
      "execution_count": null,
      "outputs": []
    }
  ]
}