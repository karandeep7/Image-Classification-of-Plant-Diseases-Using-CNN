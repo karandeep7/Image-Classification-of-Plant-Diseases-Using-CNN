{
  "nbformat": 4,
  "nbformat_minor": 0,
  "metadata": {
    "colab": {
      "provenance": [],
      "include_colab_link": true
    },
    "kernelspec": {
      "name": "python3",
      "display_name": "Python 3"
    },
    "language_info": {
      "name": "python"
    }
  },
  "cells": [
    {
      "cell_type": "markdown",
      "metadata": {
        "id": "view-in-github",
        "colab_type": "text"
      },
      "source": [
        "<a href=\"https://colab.research.google.com/github/karandeep7/Image-Classification-of-Plant-Diseases-Using-CNN/blob/main/plant_leaf_disease_classification.ipynb\" target=\"_parent\"><img src=\"https://colab.research.google.com/assets/colab-badge.svg\" alt=\"Open In Colab\"/></a>"
      ]
    },
    {
      "cell_type": "markdown",
      "source": [
        "#Fetching the data from source"
      ],
      "metadata": {
        "id": "MmtZd-a8HtZI"
      }
    },
    {
      "cell_type": "markdown",
      "source": [
        "###Download datasets from kaggle"
      ],
      "metadata": {
        "id": "brRXeCicH0PO"
      }
    },
    {
      "cell_type": "code",
      "source": [
        "!kaggle datasets download -d rizwan123456789/potato-disease-leaf-datasetpld\n",
        "!kaggle datasets download -d adilmubashirchaudhry/plant-village-dataset\n",
        "!kaggle datasets download -d mexwell/crop-diseases-classification\n"
      ],
      "metadata": {
        "id": "alippljhBuXj",
        "outputId": "24f33455-ab8e-4901-e5e6-616c22c3af21",
        "colab": {
          "base_uri": "https://localhost:8080/"
        }
      },
      "execution_count": null,
      "outputs": [
        {
          "output_type": "stream",
          "name": "stdout",
          "text": [
            "Dataset URL: https://www.kaggle.com/datasets/rizwan123456789/potato-disease-leaf-datasetpld\n",
            "License(s): DbCL-1.0\n",
            "Downloading potato-disease-leaf-datasetpld.zip to /content\n",
            " 56% 21.0M/37.4M [00:00<00:00, 95.9MB/s]\n",
            "100% 37.4M/37.4M [00:00<00:00, 111MB/s] \n",
            "Dataset URL: https://www.kaggle.com/datasets/adilmubashirchaudhry/plant-village-dataset\n",
            "License(s): CC-BY-NC-SA-4.0\n",
            "Downloading plant-village-dataset.zip to /content\n",
            " 99% 979M/989M [00:15<00:00, 78.5MB/s]\n",
            "100% 989M/989M [00:15<00:00, 68.4MB/s]\n",
            "Dataset URL: https://www.kaggle.com/datasets/mexwell/crop-diseases-classification\n",
            "License(s): other\n",
            "Downloading crop-diseases-classification.zip to /content\n",
            "100% 1.99G/2.00G [00:29<00:00, 75.1MB/s]\n",
            "100% 2.00G/2.00G [00:29<00:00, 72.1MB/s]\n"
          ]
        }
      ]
    },
    {
      "cell_type": "markdown",
      "source": [
        "###Unzip the datasets"
      ],
      "metadata": {
        "id": "PyDYCkfFH5Wu"
      }
    },
    {
      "cell_type": "code",
      "source": [
        "import zipfile\n",
        "with zipfile.ZipFile('/content/crop-diseases-classification.zip', 'r') as zip_ref:\n",
        "    zip_ref.extractall('/content/crop-diseases-classification')\n",
        "\n",
        "with zipfile.ZipFile('/content/plant-village-dataset.zip', 'r') as zip_ref:\n",
        "    zip_ref.extractall('/content/plant-village-dataset')\n",
        "\n",
        "with zipfile.ZipFile('/content/potato-disease-leaf-datasetpld.zip', 'r') as zip_ref:\n",
        "    zip_ref.extractall('/content/potato-disease-leaf-datasetpld')\n",
        "\n",
        "\n"
      ],
      "metadata": {
        "id": "6LANOBxmDdu4"
      },
      "execution_count": null,
      "outputs": []
    },
    {
      "cell_type": "code",
      "source": [],
      "metadata": {
        "id": "EzubCbD4jtNP"
      },
      "execution_count": null,
      "outputs": []
    },
    {
      "cell_type": "markdown",
      "source": [
        "#Preprocessing\n"
      ],
      "metadata": {
        "id": "b9Uv5xNSJmzK"
      }
    },
    {
      "cell_type": "markdown",
      "source": [
        "###Import required libraries"
      ],
      "metadata": {
        "id": "lXGTGIoRJr55"
      }
    },
    {
      "cell_type": "code",
      "source": [
        "import torchvision.transforms as transforms\n",
        "from torchvision.datasets import ImageFolder\n",
        "import pandas as pd\n",
        "import os\n",
        "from PIL import Image\n",
        "import json\n",
        "from torch.utils.data import Dataset, DataLoader, Subset\n",
        "from sklearn.model_selection import train_test_split\n",
        "from torch import tensor\n",
        "from tqdm import tqdm\n",
        "import matplotlib.pyplot as plt\n",
        "import torch\n",
        "import torch.nn as nn\n",
        "import torch.optim as optim\n",
        "from torchvision.models import resnet18, ResNet18_Weights\n",
        "from torchvision.models import vgg16\n",
        "from torchvision.models import mobilenet_v2, MobileNet_V2_Weights"
      ],
      "metadata": {
        "id": "9Rr4zFyPEad1"
      },
      "execution_count": null,
      "outputs": []
    },
    {
      "cell_type": "markdown",
      "source": [
        "###Preprocessing functions for the dataloader"
      ],
      "metadata": {
        "id": "inTsvTNUKB08"
      }
    },
    {
      "cell_type": "code",
      "source": [
        "transform = transforms.Compose([\n",
        "    transforms.Resize((224, 224)),  # Resize to a standard size\n",
        "    transforms.ToTensor(),           # Convert images to tensors\n",
        "    transforms.Normalize(mean=[0.485, 0.456, 0.406], std=[0.229, 0.224, 0.225])  # Normalize\n",
        "\n",
        "])"
      ],
      "metadata": {
        "id": "5gPrSn71Ey6U"
      },
      "execution_count": null,
      "outputs": []
    },
    {
      "cell_type": "markdown",
      "source": [
        "###Create a custom dataset class for Crop Diseases Classification dataset\n"
      ],
      "metadata": {
        "id": "miLbAYaKLPPu"
      }
    },
    {
      "cell_type": "code",
      "source": [
        "class CropDiseaseDataset(Dataset):\n",
        "    def __init__(self, csv_file, img_dir, json_file, transform=None):\n",
        "        self.annotations = pd.read_csv(csv_file)\n",
        "        self.img_dir = img_dir\n",
        "        self.transform = transform\n",
        "\n",
        "        # Load the JSON file with label mappings\n",
        "        with open(json_file, 'r') as f:\n",
        "            self.label_mapping = json.load(f)\n",
        "\n",
        "        # Filter out rows where the image file is missing\n",
        "        self.annotations = self.annotations[self.annotations['image_id'].apply(\n",
        "            lambda x: os.path.exists(os.path.join(self.img_dir, x))\n",
        "        )].reset_index(drop=True)\n",
        "        self.classes = list(self.label_mapping.values())\n",
        "\n",
        "    def __len__(self):\n",
        "        return len(self.annotations)\n",
        "\n",
        "\n",
        "    def __getitem__(self, idx):\n",
        "        img_path = os.path.join(self.img_dir, self.annotations.iloc[idx, 0])  # image_id\n",
        "        image = Image.open(img_path)\n",
        "\n",
        "        # Convert numerical label to disease name\n",
        "        label_num = int(self.annotations.iloc[idx, 1])\n",
        "        label = self.label_mapping[str(label_num)]\n",
        "\n",
        "        # Convert the label to a numerical value if necessary\n",
        "        label_index = label_num  # Assuming the label_num is the correct index for your class\n",
        "        # Alternatively, you can map the label to an index if required\n",
        "\n",
        "        if self.transform:\n",
        "            image = self.transform(image)\n",
        "\n",
        "        return image, tensor(label_index)  # Convert to tensor\n"
      ],
      "metadata": {
        "id": "2yTnPGAYLN6G"
      },
      "execution_count": null,
      "outputs": []
    },
    {
      "cell_type": "markdown",
      "source": [
        "###Create dataloader for Crop Diseases Classification Dataset"
      ],
      "metadata": {
        "id": "QSnFSD_GLg2g"
      }
    },
    {
      "cell_type": "code",
      "source": [
        "# Define paths\n",
        "csv_file = '/content/crop-diseases-classification/Data/train.csv'   # Update with actual path\n",
        "img_dir = '/content/crop-diseases-classification/Data/train_images'        # Update with actual path\n",
        "json_file = '/content/crop-diseases-classification/Data/label_num_to_disease_map.json' # Update with actual path\n",
        "\n",
        "# Load full dataset\n",
        "dataset_2 = CropDiseaseDataset(csv_file=csv_file, img_dir=img_dir, json_file=json_file, transform=transform)\n",
        "\n",
        "# Split indices for train, validation, and test sets\n",
        "train_indices, temp_indices = train_test_split(range(len(dataset_2)), test_size=0.3, random_state=42)\n",
        "val_indices, test_indices = train_test_split(temp_indices, test_size=0.5, random_state=42)\n",
        "\n",
        "# Create subsets\n",
        "train_dataset_2 = Subset(dataset_2, train_indices)\n",
        "val_dataset_2 = Subset(dataset_2, val_indices)\n",
        "test_dataset_2 = Subset(dataset_2, test_indices)\n",
        "\n",
        "# Create DataLoaders\n",
        "batch_size = 32\n",
        "\n",
        "train_loader_2 = DataLoader(train_dataset_2, batch_size=batch_size, shuffle=True)\n",
        "val_loader_2 = DataLoader(val_dataset_2, batch_size=batch_size, shuffle=True)\n",
        "test_loader_2 = DataLoader(test_dataset_2, batch_size=batch_size, shuffle=True)\n"
      ],
      "metadata": {
        "id": "cTzB_DMyG96B"
      },
      "execution_count": null,
      "outputs": []
    },
    {
      "cell_type": "markdown",
      "source": [
        "\n",
        "###Create a dataloader for Potato disease leaf dataset\n"
      ],
      "metadata": {
        "id": "tEzb1EaslIJR"
      }
    },
    {
      "cell_type": "code",
      "source": [
        "train_dir_1 = '/content/potato-disease-leaf-datasetpld/PLD_3_Classes_256/Training'\n",
        "test_dir_1 = '/content/potato-disease-leaf-datasetpld/PLD_3_Classes_256/Testing'\n",
        "val_dir_1 = '/content/potato-disease-leaf-datasetpld/PLD_3_Classes_256/Validation'\n",
        "\n",
        "train_dataset_1 = ImageFolder(root=train_dir_1, transform=transform)\n",
        "test_dataset_1 = ImageFolder(root=test_dir_1, transform=transform)\n",
        "val_dataset_1 = ImageFolder(root=val_dir_1, transform=transform)\n",
        "\n",
        "batch_size = 32\n",
        "\n",
        "train_loader_1 = DataLoader(train_dataset_1, batch_size=batch_size, shuffle=True)\n",
        "test_loader_1 = DataLoader(test_dataset_1, batch_size=batch_size, shuffle=True)\n",
        "val_loader_1 = DataLoader(val_dataset_1, batch_size=batch_size, shuffle=True)\n"
      ],
      "metadata": {
        "id": "cA9r4OcmlHUg"
      },
      "execution_count": null,
      "outputs": []
    },
    {
      "cell_type": "markdown",
      "source": [
        "###Create a dataloader for Plant Village Dataset"
      ],
      "metadata": {
        "id": "Z-VW7TLKlI0G"
      }
    },
    {
      "cell_type": "code",
      "source": [
        "\n",
        "train_dir_3 = '/content/plant-village-dataset/PlantVillageDataset/train_val_test/train'\n",
        "test_dir_3 = '/content/plant-village-dataset/PlantVillageDataset/train_val_test/test'\n",
        "val_dir_3 = '/content/plant-village-dataset/PlantVillageDataset/train_val_test/val'\n",
        "\n",
        "train_dataset_3 = ImageFolder(root=train_dir_3, transform=transform)\n",
        "test_dataset_3 = ImageFolder(root=test_dir_3, transform=transform)\n",
        "val_dataset_3 = ImageFolder(root=val_dir_3, transform=transform)\n",
        "\n",
        "batch_size = 32\n",
        "\n",
        "train_loader_3 = DataLoader(train_dataset_3, batch_size=batch_size, shuffle=True)\n",
        "test_loader_3 = DataLoader(test_dataset_3, batch_size=batch_size, shuffle=True)\n",
        "val_loader_3 = DataLoader(val_dataset_3, batch_size=batch_size, shuffle=True)\n"
      ],
      "metadata": {
        "id": "h6XjGmSxlJR6"
      },
      "execution_count": null,
      "outputs": []
    },
    {
      "cell_type": "markdown",
      "source": [
        "###Testing the dataloaders"
      ],
      "metadata": {
        "id": "HrJLe0P_lJsk"
      }
    },
    {
      "cell_type": "code",
      "source": [
        "\n",
        "# Retrieve a single batch of images and labels from the train DataLoader\n",
        "data_iter = iter(train_loader_3)\n",
        "images, labels = next(data_iter)\n",
        "\n",
        "# Print out basic info about the batch\n",
        "print(f\"Batch size: {images.size(0)}\")\n",
        "print(f\"Image shape: {images.shape}\")\n",
        "print(f\"Label sample: {labels[:5]}\")    # Print first 5 labels to verify format and mapping\n",
        "\n",
        "# Optional: Display a few images with their labels\n",
        "def show_images(images, labels, num=5):\n",
        "    plt.figure(figsize=(10, 4))\n",
        "    for i in range(num):\n",
        "        plt.subplot(1, num, i + 1)\n",
        "        plt.imshow(images[i].permute(1, 2, 0).numpy())\n",
        "        plt.title(labels[i])\n",
        "        plt.axis('off')\n",
        "    plt.show()\n",
        "\n",
        "# Convert images back to original scale before displaying (reverse normalization)\n",
        "inv_transform = transforms.Normalize(\n",
        "    mean=[-0.485 / 0.229, -0.456 / 0.224, -0.406 / 0.225],\n",
        "    std=[1 / 0.229, 1 / 0.224, 1 / 0.225]\n",
        ")\n",
        "images_inv = inv_transform(images)\n",
        "\n",
        "# Display images\n",
        "show_images(images_inv, labels)\n"
      ],
      "metadata": {
        "id": "DSPLUKdIlKNq"
      },
      "execution_count": null,
      "outputs": []
    },
    {
      "cell_type": "markdown",
      "source": [
        "#Convolutional Neural Networks"
      ],
      "metadata": {
        "id": "U8V1eeywnflk"
      }
    },
    {
      "cell_type": "code",
      "source": [
        "# Define the device\n",
        "device = torch.device('cuda' if torch.cuda.is_available() else 'cpu')"
      ],
      "metadata": {
        "id": "99Lxo4mInfMc"
      },
      "execution_count": null,
      "outputs": []
    },
    {
      "cell_type": "markdown",
      "source": [
        "###Define Resnet-18 Model"
      ],
      "metadata": {
        "id": "ztC35pw-nhXx"
      }
    },
    {
      "cell_type": "code",
      "source": [
        "def get_resnet_model(classes):\n",
        "\n",
        "    # Initialize the ResNet-18 model\n",
        "    model = resnet18(num_classes=len(classes)).to(device)  # Change to the correct number of classes\n",
        "\n",
        "    return model"
      ],
      "metadata": {
        "id": "Dp8DhKlenAB1"
      },
      "execution_count": null,
      "outputs": []
    },
    {
      "cell_type": "markdown",
      "source": [
        "###Define vgg-16 Model"
      ],
      "metadata": {
        "id": "MXGvCXiynhv_"
      }
    },
    {
      "cell_type": "code",
      "source": [
        "def get_vgg16_model(classes):\n",
        "    # Initialize the VGG-16 model\n",
        "    model = vgg16(num_classes=len(classes)).to(device)  # Set pretrained=True if you want to use pre-trained weights\n",
        "\n",
        "    return model"
      ],
      "metadata": {
        "id": "da41s3yhniKz"
      },
      "execution_count": null,
      "outputs": []
    },
    {
      "cell_type": "markdown",
      "source": [
        "###Define MobileNet Model\n"
      ],
      "metadata": {
        "id": "X6pl-apxnigG"
      }
    },
    {
      "cell_type": "code",
      "source": [
        "def get_mobilenet_model(classes):\n",
        "    # Initialize the MobileNet v2 model\n",
        "    model = mobilenet_v2(num_classes=len(classes)).to(device)  # Change to the correct number of classes\n",
        "    return model"
      ],
      "metadata": {
        "id": "IVkcf8Icni5g"
      },
      "execution_count": null,
      "outputs": []
    },
    {
      "cell_type": "markdown",
      "source": [
        "###Define the pretrained ResNet-18 model for transfer learning\n"
      ],
      "metadata": {
        "id": "diz0DLaZnjIM"
      }
    },
    {
      "cell_type": "code",
      "source": [
        "def get_resnet_transfer_model(classes):\n",
        "    # Load the pretrained ResNet-18 model\n",
        "    model = resnet18(weights=ResNet18_Weights.DEFAULT).to(device)\n",
        "\n",
        "    # Freeze all layers except the last block\n",
        "    for param in model.parameters():\n",
        "        param.requires_grad = False\n",
        "\n",
        "    # Unfreeze the last fully connected layer (fc)\n",
        "    for param in model.fc.parameters():\n",
        "        param.requires_grad = True\n",
        "\n",
        "    for param in model.layer4.parameters():  # Unfreeze the last residual block\n",
        "        param.requires_grad = True\n",
        "\n",
        "    # Modify the final fully connected layer to match the number of classes\n",
        "    model.fc = nn.Linear(model.fc.in_features, len(classes)).to(device)\n",
        "\n",
        "    return model"
      ],
      "metadata": {
        "id": "RtjQuAGKnj9z"
      },
      "execution_count": null,
      "outputs": []
    },
    {
      "cell_type": "markdown",
      "source": [
        "## add your code here"
      ],
      "metadata": {
        "id": "x_PLERdRpGfz"
      }
    },
    {
      "cell_type": "markdown",
      "source": [
        "###Function to train the models"
      ],
      "metadata": {
        "id": "NMN8oyU8MGlb"
      }
    },
    {
      "cell_type": "code",
      "source": [
        "def train_model(model, train_loader, val_loader, num_epochs=5, learning_rate = 0.01):\n",
        "\n",
        "    # Define loss function and optimizer\n",
        "    criterion = nn.CrossEntropyLoss()\n",
        "    optimizer = optim.SGD(model.parameters(), lr=learning_rate, momentum=0.9)\n",
        "\n",
        "    for epoch in range(num_epochs):\n",
        "        model.train()  # Set the model to training mode\n",
        "        running_loss = 0.0\n",
        "        correct = 0\n",
        "        total = 0\n",
        "\n",
        "         # Wrap the train_loader with tqdm to get a progress bar\n",
        "        with tqdm(train_loader, unit=\"batch\") as tepoch:\n",
        "            tepoch.set_description(f\"Epoch [{epoch + 1}/{num_epochs}]\")\n",
        "\n",
        "            for images, labels in tepoch:\n",
        "                images, labels = images.to(device), labels.to(device)\n",
        "\n",
        "                # Zero the parameter gradients\n",
        "                optimizer.zero_grad()\n",
        "\n",
        "                # Forward pass\n",
        "                outputs = model(images)\n",
        "                loss = criterion(outputs, labels)\n",
        "\n",
        "                # Backward pass and optimization\n",
        "                loss.backward()\n",
        "                optimizer.step()\n",
        "\n",
        "                # Statistics\n",
        "                running_loss += loss.item()\n",
        "                _, predicted = torch.max(outputs.data, 1)\n",
        "                total += labels.size(0)\n",
        "                correct += (predicted == labels).sum().item()\n",
        "\n",
        "                # Update progress bar description\n",
        "                tepoch.set_postfix(loss=loss.item(), accuracy=correct / total)\n",
        "\n",
        "        # Calculate accuracy\n",
        "        accuracy = correct / total\n",
        "        print(f'Epoch [{epoch + 1}/{num_epochs}], Loss: {running_loss/len(train_loader):.4f}, Accuracy: {accuracy:.4f}')\n",
        "\n",
        "        # Validate the model\n",
        "        validate_model(model, val_loader)\n",
        "\n",
        "def validate_model(model, val_loader):\n",
        "    model.eval()  # Set the model to evaluation mode\n",
        "    total = 0\n",
        "    correct = 0\n",
        "\n",
        "    with torch.no_grad():\n",
        "        for images, labels in val_loader:\n",
        "            images, labels = images.to(device), labels.to(device)\n",
        "            outputs = model(images)\n",
        "            _, predicted = torch.max(outputs.data, 1)\n",
        "            total += labels.size(0)\n",
        "            correct += (predicted == labels).sum().item()\n",
        "\n",
        "    accuracy = correct / total\n",
        "    print(f'Validation Accuracy: {accuracy:.4f}')"
      ],
      "metadata": {
        "id": "JmXNqJeX2Vnz"
      },
      "execution_count": null,
      "outputs": []
    },
    {
      "cell_type": "markdown",
      "source": [
        "###Define functions to save and reload the models"
      ],
      "metadata": {
        "id": "-jmPs7JrUX1d"
      }
    },
    {
      "cell_type": "code",
      "source": [
        "# Function to save the model\n",
        "def save_model(model, path):\n",
        "    # Save the model's state_dict to a file\n",
        "    torch.save(model.state_dict(), path)\n",
        "    print(f\"Model saved to {path}\")\n",
        "\n",
        "# Function to load the model\n",
        "def load_model(model, path):\n",
        "    # Load the model's state_dict from the file\n",
        "    model.load_state_dict(torch.load(path))\n",
        "    model.eval()  # Set the model to evaluation mode\n",
        "    print(f\"Model loaded from {path}\")\n",
        "    return model"
      ],
      "metadata": {
        "id": "0BoCLsXsUVT6"
      },
      "execution_count": null,
      "outputs": []
    },
    {
      "cell_type": "markdown",
      "source": [
        "##Training the models on all three datasets"
      ],
      "metadata": {
        "id": "6VwZhwyks-45"
      }
    },
    {
      "cell_type": "markdown",
      "source": [
        "###Training the Resnet-18 model on Potato Disease Leaf Dataset"
      ],
      "metadata": {
        "id": "v0IToc8DtDv9"
      }
    },
    {
      "cell_type": "code",
      "source": [
        "print(\"Training Resnet-18 on Potato Disease Leaf Dataset\")\n",
        "resnet_model_1 = get_resnet_model(classes=train_dataset_1.classes)\n",
        "train_model(resnet_model_1, train_loader_1, val_loader_1, num_epochs = 10)\n",
        "save_model(resnet_model_1, \"resnet_model_1.pth\")"
      ],
      "metadata": {
        "id": "U6WZ5xEjs8m6"
      },
      "execution_count": null,
      "outputs": []
    },
    {
      "cell_type": "markdown",
      "source": [
        "###Training the Resnet-18 model on Crop Diseases Classification Dataset"
      ],
      "metadata": {
        "id": "NxA1pun6tESw"
      }
    },
    {
      "cell_type": "code",
      "source": [
        "print(\"\\nTraining on Crop Diseases Classification Dataset\")\n",
        "resnet_model_2 = get_resnet_model(classes=train_dataset_2.dataset.classes)\n",
        "train_model(resnet_model_2, train_loader_2, val_loader_2, num_epochs = 10)\n",
        "save_model(resnet_model_2, \"resnet_model_2.pth\")"
      ],
      "metadata": {
        "id": "Yp75QHv0tEre"
      },
      "execution_count": null,
      "outputs": []
    },
    {
      "cell_type": "markdown",
      "source": [
        "###Training the Resnet-18 model on Plant Village Dataset"
      ],
      "metadata": {
        "id": "USVXh6SXtE-y"
      }
    },
    {
      "cell_type": "code",
      "source": [
        "print(\"\\nTraining Resnet-18 model on Plant Village Dataset\")\n",
        "resnet_model_3 = get_resnet_model(classes=train_dataset_3.classes)\n",
        "train_model(resnet_model_3, train_loader_3, val_loader_3, num_epochs = 10)\n",
        "save_model(resnet_model_3, \"resnet_model_3.pth\")"
      ],
      "metadata": {
        "id": "JLkoyRVxtFQN"
      },
      "execution_count": null,
      "outputs": []
    },
    {
      "cell_type": "markdown",
      "source": [
        "###Training VGG-16 on Potato Disease Leaf Dataset"
      ],
      "metadata": {
        "id": "MHrP3zEtP4du"
      }
    },
    {
      "cell_type": "code",
      "source": [
        "print(\"Training VGG-16 on Potato Disease Leaf Dataset\")\n",
        "vgg_model_1 = get_vgg16_model(classes=train_dataset_1.classes)\n",
        "train_model(vgg_model_1, train_loader_1, val_loader_1, num_epochs = 10)\n",
        "save_model(vgg_model_1, \"vgg_model_1.pth\")"
      ],
      "metadata": {
        "colab": {
          "base_uri": "https://localhost:8080/"
        },
        "id": "B9iZ8K6W11UY",
        "outputId": "791ae51d-240c-4a3c-d1dc-6e1ad93b811a"
      },
      "execution_count": null,
      "outputs": [
        {
          "output_type": "stream",
          "name": "stdout",
          "text": [
            "Training VGG-16 on Potato Disease Leaf Dataset\n"
          ]
        },
        {
          "output_type": "stream",
          "name": "stderr",
          "text": [
            "Epoch [1/10]: 100%|██████████| 102/102 [00:54<00:00,  1.88batch/s, accuracy=0.411, loss=1.08]\n"
          ]
        },
        {
          "output_type": "stream",
          "name": "stdout",
          "text": [
            "Epoch [1/10], Loss: 1.0617, Accuracy: 0.4110\n",
            "Validation Accuracy: 0.4087\n"
          ]
        },
        {
          "output_type": "stream",
          "name": "stderr",
          "text": [
            "Epoch [2/10]: 100%|██████████| 102/102 [00:53<00:00,  1.91batch/s, accuracy=0.413, loss=1.12]\n"
          ]
        },
        {
          "output_type": "stream",
          "name": "stdout",
          "text": [
            "Epoch [2/10], Loss: 1.0616, Accuracy: 0.4128\n",
            "Validation Accuracy: 0.2452\n"
          ]
        },
        {
          "output_type": "stream",
          "name": "stderr",
          "text": [
            "Epoch [3/10]: 100%|██████████| 102/102 [00:53<00:00,  1.90batch/s, accuracy=0.441, loss=1.04]\n"
          ]
        },
        {
          "output_type": "stream",
          "name": "stdout",
          "text": [
            "Epoch [3/10], Loss: 1.0423, Accuracy: 0.4414\n",
            "Validation Accuracy: 0.5024\n"
          ]
        },
        {
          "output_type": "stream",
          "name": "stderr",
          "text": [
            "Epoch [4/10]: 100%|██████████| 102/102 [00:53<00:00,  1.90batch/s, accuracy=0.426, loss=1.23]\n"
          ]
        },
        {
          "output_type": "stream",
          "name": "stdout",
          "text": [
            "Epoch [4/10], Loss: 1.0525, Accuracy: 0.4257\n",
            "Validation Accuracy: 0.4447\n"
          ]
        },
        {
          "output_type": "stream",
          "name": "stderr",
          "text": [
            "Epoch [5/10]: 100%|██████████| 102/102 [00:53<00:00,  1.89batch/s, accuracy=0.489, loss=0.968]\n"
          ]
        },
        {
          "output_type": "stream",
          "name": "stdout",
          "text": [
            "Epoch [5/10], Loss: 1.0085, Accuracy: 0.4888\n",
            "Validation Accuracy: 0.5168\n"
          ]
        },
        {
          "output_type": "stream",
          "name": "stderr",
          "text": [
            "Epoch [6/10]: 100%|██████████| 102/102 [00:54<00:00,  1.89batch/s, accuracy=0.504, loss=0.943]\n"
          ]
        },
        {
          "output_type": "stream",
          "name": "stdout",
          "text": [
            "Epoch [6/10], Loss: 0.9739, Accuracy: 0.5045\n",
            "Validation Accuracy: 0.5409\n"
          ]
        },
        {
          "output_type": "stream",
          "name": "stderr",
          "text": [
            "Epoch [7/10]: 100%|██████████| 102/102 [00:54<00:00,  1.89batch/s, accuracy=0.549, loss=0.826]\n"
          ]
        },
        {
          "output_type": "stream",
          "name": "stdout",
          "text": [
            "Epoch [7/10], Loss: 0.9139, Accuracy: 0.5491\n",
            "Validation Accuracy: 0.5601\n"
          ]
        },
        {
          "output_type": "stream",
          "name": "stderr",
          "text": [
            "Epoch [8/10]: 100%|██████████| 102/102 [00:54<00:00,  1.88batch/s, accuracy=0.59, loss=0.74]\n"
          ]
        },
        {
          "output_type": "stream",
          "name": "stdout",
          "text": [
            "Epoch [8/10], Loss: 0.8815, Accuracy: 0.5900\n",
            "Validation Accuracy: 0.6058\n"
          ]
        },
        {
          "output_type": "stream",
          "name": "stderr",
          "text": [
            "Epoch [9/10]: 100%|██████████| 102/102 [00:53<00:00,  1.90batch/s, accuracy=0.687, loss=0.483]\n"
          ]
        },
        {
          "output_type": "stream",
          "name": "stdout",
          "text": [
            "Epoch [9/10], Loss: 0.7376, Accuracy: 0.6866\n",
            "Validation Accuracy: 0.7812\n"
          ]
        },
        {
          "output_type": "stream",
          "name": "stderr",
          "text": [
            "Epoch [10/10]: 100%|██████████| 102/102 [00:53<00:00,  1.90batch/s, accuracy=0.686, loss=1.3]\n"
          ]
        },
        {
          "output_type": "stream",
          "name": "stdout",
          "text": [
            "Epoch [10/10], Loss: 0.7255, Accuracy: 0.6859\n",
            "Validation Accuracy: 0.6130\n",
            "Model saved to vgg_model_1.pth\n"
          ]
        }
      ]
    },
    {
      "cell_type": "markdown",
      "source": [
        "###Training VGG-16 on Crop Disease Dataset"
      ],
      "metadata": {
        "id": "BpV7N2wgQb2V"
      }
    },
    {
      "cell_type": "code",
      "source": [
        "print(\"\\nTraining VGG-16 on Crop Disease Dataset\")\n",
        "vgg_model_2 = get_vgg16_model(classes=train_dataset_2.dataset.classes)\n",
        "train_model(vgg_model_2, train_loader_2, val_loader_2, num_epochs = 10)\n",
        "save_model(vgg_model_2, \"vgg_model_2.pth\")"
      ],
      "metadata": {
        "colab": {
          "base_uri": "https://localhost:8080/"
        },
        "id": "FcnNLWb14tYT",
        "outputId": "f020e4cc-07d3-44fa-fb32-010a2d05cb7d"
      },
      "execution_count": null,
      "outputs": [
        {
          "output_type": "stream",
          "name": "stdout",
          "text": [
            "\n",
            "Training VGG-16 on Crop Disease Dataset\n"
          ]
        },
        {
          "output_type": "stream",
          "name": "stderr",
          "text": [
            "Epoch [1/10]:  86%|████████▌ | 337/393 [03:57<00:40,  1.38batch/s, accuracy=0.617, loss=1.01]"
          ]
        }
      ]
    },
    {
      "cell_type": "markdown",
      "source": [
        "###Training VGG-16 on Plant Village Dataset"
      ],
      "metadata": {
        "id": "qN-_o8r6QzxB"
      }
    },
    {
      "cell_type": "code",
      "source": [
        "print(\"\\nTraining VGG-16 on Plant Village Dataset\")\n",
        "vgg_model_3 = get_vgg16_model(classes=train_dataset_3.classes)\n",
        "train_model(vgg_model_3, train_loader_3, val_loader_3, num_epochs = 10)\n",
        "save_model(vgg_model_3, \"vgg_model_3.pth\")"
      ],
      "metadata": {
        "id": "hMgTHQLaFL55"
      },
      "execution_count": null,
      "outputs": []
    }
  ]
}