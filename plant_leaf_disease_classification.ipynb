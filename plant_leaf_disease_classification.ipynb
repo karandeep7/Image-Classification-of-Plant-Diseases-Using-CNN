{
  "nbformat": 4,
  "nbformat_minor": 0,
  "metadata": {
    "colab": {
      "provenance": [],
      "include_colab_link": true
    },
    "kernelspec": {
      "name": "python3",
      "display_name": "Python 3"
    },
    "language_info": {
      "name": "python"
    }
  },
  "cells": [
    {
      "cell_type": "markdown",
      "metadata": {
        "id": "view-in-github",
        "colab_type": "text"
      },
      "source": [
        "<a href=\"https://colab.research.google.com/github/karandeep7/Image-Classification-of-Plant-Diseases-Using-CNN/blob/main/plant_leaf_disease_classification.ipynb\" target=\"_parent\"><img src=\"https://colab.research.google.com/assets/colab-badge.svg\" alt=\"Open In Colab\"/></a>"
      ]
    },
    {
      "cell_type": "code",
      "execution_count": null,
      "metadata": {
        "id": "E0TE9J86uRzk"
      },
      "outputs": [],
      "source": []
    },
    {
      "cell_type": "markdown",
      "source": [
        "#Fetching the data from source"
      ],
      "metadata": {
        "id": "MmtZd-a8HtZI"
      }
    },
    {
      "cell_type": "markdown",
      "source": [
        "###Download datasets from kaggle"
      ],
      "metadata": {
        "id": "brRXeCicH0PO"
      }
    },
    {
      "cell_type": "code",
      "source": [
        "!kaggle datasets download -d rizwan123456789/potato-disease-leaf-datasetpld\n",
        "!kaggle datasets download -d adilmubashirchaudhry/plant-village-dataset\n",
        "!kaggle datasets download -d mexwell/crop-diseases-classification\n"
      ],
      "metadata": {
        "id": "alippljhBuXj",
        "outputId": "24f33455-ab8e-4901-e5e6-616c22c3af21",
        "colab": {
          "base_uri": "https://localhost:8080/"
        }
      },
      "execution_count": null,
      "outputs": [
        {
          "output_type": "stream",
          "name": "stdout",
          "text": [
            "Dataset URL: https://www.kaggle.com/datasets/rizwan123456789/potato-disease-leaf-datasetpld\n",
            "License(s): DbCL-1.0\n",
            "Downloading potato-disease-leaf-datasetpld.zip to /content\n",
            " 56% 21.0M/37.4M [00:00<00:00, 95.9MB/s]\n",
            "100% 37.4M/37.4M [00:00<00:00, 111MB/s] \n",
            "Dataset URL: https://www.kaggle.com/datasets/adilmubashirchaudhry/plant-village-dataset\n",
            "License(s): CC-BY-NC-SA-4.0\n",
            "Downloading plant-village-dataset.zip to /content\n",
            " 99% 979M/989M [00:15<00:00, 78.5MB/s]\n",
            "100% 989M/989M [00:15<00:00, 68.4MB/s]\n",
            "Dataset URL: https://www.kaggle.com/datasets/mexwell/crop-diseases-classification\n",
            "License(s): other\n",
            "Downloading crop-diseases-classification.zip to /content\n",
            "100% 1.99G/2.00G [00:29<00:00, 75.1MB/s]\n",
            "100% 2.00G/2.00G [00:29<00:00, 72.1MB/s]\n"
          ]
        }
      ]
    },
    {
      "cell_type": "markdown",
      "source": [
        "###Unzip the datasets"
      ],
      "metadata": {
        "id": "PyDYCkfFH5Wu"
      }
    },
    {
      "cell_type": "code",
      "source": [
        "import zipfile\n",
        "with zipfile.ZipFile('/content/crop-diseases-classification.zip', 'r') as zip_ref:\n",
        "    zip_ref.extractall('/content/crop-diseases-classification')\n",
        "\n",
        "with zipfile.ZipFile('/content/plant-village-dataset.zip', 'r') as zip_ref:\n",
        "    zip_ref.extractall('/content/plant-village-dataset')\n",
        "\n",
        "with zipfile.ZipFile('/content/potato-disease-leaf-datasetpld.zip', 'r') as zip_ref:\n",
        "    zip_ref.extractall('/content/potato-disease-leaf-datasetpld')\n",
        "\n",
        "\n"
      ],
      "metadata": {
        "id": "6LANOBxmDdu4"
      },
      "execution_count": null,
      "outputs": []
    }
  ]
}